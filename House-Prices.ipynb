{
 "cells": [
  {
   "cell_type": "code",
   "execution_count": 1387,
   "id": "fc420e69-5e13-4f85-b7aa-e52e09651af8",
   "metadata": {},
   "outputs": [],
   "source": [
    "import numpy as np"
   ]
  },
  {
   "cell_type": "code",
   "execution_count": 1388,
   "id": "473c29fd-4eae-47b9-a340-dafb2806403d",
   "metadata": {},
   "outputs": [],
   "source": [
    "import pandas as pd"
   ]
  },
  {
   "cell_type": "code",
   "execution_count": 1389,
   "id": "6148b938-28bf-43ef-9b91-38fa0b687ff2",
   "metadata": {},
   "outputs": [],
   "source": [
    "dataset = pd.read_csv(\"train House).csv\")\n",
    "sale_price = dataset['SalePrice']\n",
    "dataset = dataset.drop(columns = [\"SalePrice\"])\n",
    "dataset = dataset.drop(columns = [\"Id\"])"
   ]
  },
  {
   "cell_type": "raw",
   "id": "347f2690-a0c5-40c7-9a04-bd1d949a3b9d",
   "metadata": {},
   "source": [
    "Missing data"
   ]
  },
  {
   "cell_type": "code",
   "execution_count": 1390,
   "id": "eacf4907-6740-465a-8eb3-80d5fda75487",
   "metadata": {},
   "outputs": [
    {
     "name": "stdout",
     "output_type": "stream",
     "text": [
      "['LotFrontage', 'Alley', 'MasVnrType', 'MasVnrArea', 'BsmtQual', 'BsmtCond', 'BsmtExposure', 'BsmtFinType1', 'BsmtFinType2', 'Electrical', 'FireplaceQu', 'GarageType', 'GarageYrBlt', 'GarageFinish', 'GarageQual', 'GarageCond', 'PoolQC', 'Fence', 'MiscFeature']\n"
     ]
    }
   ],
   "source": [
    "columns_with_missing_data = dataset.columns[dataset.isnull().any()].tolist()\n",
    "print(columns_with_missing_data) "
   ]
  },
  {
   "cell_type": "code",
   "execution_count": 1391,
   "id": "b3754b0d-559c-494a-bd6a-e987b356f6c7",
   "metadata": {},
   "outputs": [
    {
     "name": "stdout",
     "output_type": "stream",
     "text": [
      "Index(['MSSubClass', 'LotFrontage', 'LotArea', 'OverallQual', 'OverallCond',\n",
      "       'YearBuilt', 'YearRemodAdd', 'MasVnrArea', 'BsmtFinSF1', 'BsmtFinSF2',\n",
      "       'BsmtUnfSF', 'TotalBsmtSF', '1stFlrSF', '2ndFlrSF', 'LowQualFinSF',\n",
      "       'GrLivArea', 'BsmtFullBath', 'BsmtHalfBath', 'FullBath', 'HalfBath',\n",
      "       'BedroomAbvGr', 'KitchenAbvGr', 'TotRmsAbvGrd', 'Fireplaces',\n",
      "       'GarageYrBlt', 'GarageCars', 'GarageArea', 'WoodDeckSF', 'OpenPorchSF',\n",
      "       'EnclosedPorch', '3SsnPorch', 'ScreenPorch', 'PoolArea', 'MiscVal',\n",
      "       'MoSold', 'YrSold'],\n",
      "      dtype='object')\n"
     ]
    }
   ],
   "source": [
    "numcols = dataset.select_dtypes(include = [\"int64\" , \"float64\"]).columns\n",
    "print(numcols)  "
   ]
  },
  {
   "cell_type": "code",
   "execution_count": 1392,
   "id": "a9c21afa-3245-4d3e-907c-8d968b5672f1",
   "metadata": {},
   "outputs": [
    {
     "name": "stdout",
     "output_type": "stream",
     "text": [
      "['LotFrontage', 'MasVnrArea', 'GarageYrBlt']\n"
     ]
    }
   ],
   "source": [
    "missing_numerical_columns = dataset[numcols].isnull().sum()\n",
    "missing_numerical_columns = missing_numerical_columns[missing_numerical_columns > 0].index.tolist()\n",
    "print(missing_numerical_columns) "
   ]
  },
  {
   "cell_type": "code",
   "execution_count": 1393,
   "id": "f8b3bb95-71c0-4a2e-9687-8e2cff70f419",
   "metadata": {},
   "outputs": [
    {
     "name": "stdout",
     "output_type": "stream",
     "text": [
      "LotFrontage    259\n",
      "MasVnrArea       8\n",
      "GarageYrBlt     81\n",
      "dtype: int64\n"
     ]
    }
   ],
   "source": [
    "missing_numerical_columns = dataset[numcols].isnull().sum()\n",
    "missing_numerical_columns = missing_numerical_columns[missing_numerical_columns > 0]\n",
    "print(missing_numerical_columns)  "
   ]
  },
  {
   "cell_type": "code",
   "execution_count": 1394,
   "id": "92925d91-bd51-4049-a840-7776231647f5",
   "metadata": {},
   "outputs": [],
   "source": [
    "from sklearn.impute import SimpleImputer\n",
    "Numimputer = SimpleImputer(strategy='mean') \n",
    "dataset[numcols] = Numimputer.fit_transform(dataset[numcols])"
   ]
  },
  {
   "cell_type": "raw",
   "id": "8aac1bbf-4544-4a60-9a41-58c6e1dfe6de",
   "metadata": {},
   "source": [
    "Encoding"
   ]
  },
  {
   "cell_type": "code",
   "execution_count": 1395,
   "id": "7b93e329-345c-4b0a-9152-ac83d123a9a3",
   "metadata": {},
   "outputs": [
    {
     "name": "stdout",
     "output_type": "stream",
     "text": [
      "Index(['MSZoning', 'Street', 'Alley', 'LotShape', 'LandContour', 'Utilities',\n",
      "       'LotConfig', 'LandSlope', 'Neighborhood', 'Condition1', 'Condition2',\n",
      "       'BldgType', 'HouseStyle', 'RoofStyle', 'RoofMatl', 'Exterior1st',\n",
      "       'Exterior2nd', 'MasVnrType', 'ExterQual', 'ExterCond', 'Foundation',\n",
      "       'BsmtQual', 'BsmtCond', 'BsmtExposure', 'BsmtFinType1', 'BsmtFinType2',\n",
      "       'Heating', 'HeatingQC', 'CentralAir', 'Electrical', 'KitchenQual',\n",
      "       'Functional', 'FireplaceQu', 'GarageType', 'GarageFinish', 'GarageQual',\n",
      "       'GarageCond', 'PavedDrive', 'PoolQC', 'Fence', 'MiscFeature',\n",
      "       'SaleType', 'SaleCondition'],\n",
      "      dtype='object')\n"
     ]
    }
   ],
   "source": [
    "catcols = dataset.select_dtypes(include=['object']).columns\n",
    "print(catcols)"
   ]
  },
  {
   "cell_type": "code",
   "execution_count": 1396,
   "id": "0bdf230d-1c9a-482a-9371-2c6c806722c7",
   "metadata": {},
   "outputs": [
    {
     "name": "stdout",
     "output_type": "stream",
     "text": [
      "Alley           1369\n",
      "MasVnrType       872\n",
      "BsmtQual          37\n",
      "BsmtCond          37\n",
      "BsmtExposure      38\n",
      "BsmtFinType1      37\n",
      "BsmtFinType2      38\n",
      "Electrical         1\n",
      "FireplaceQu      690\n",
      "GarageType        81\n",
      "GarageFinish      81\n",
      "GarageQual        81\n",
      "GarageCond        81\n",
      "PoolQC          1453\n",
      "Fence           1179\n",
      "MiscFeature     1406\n",
      "dtype: int64\n"
     ]
    }
   ],
   "source": [
    "missing_categorical_values = dataset[catcols].isnull().sum()\n",
    "missing_categorical_columns = missing_categorical_values[missing_categorical_values > 0]\n",
    "print(missing_categorical_columns)"
   ]
  },
  {
   "cell_type": "code",
   "execution_count": 1397,
   "id": "15de0763-8395-4c7f-be75-1b8b058de352",
   "metadata": {},
   "outputs": [],
   "source": [
    "dataset = dataset.drop(columns = [\"Alley\" , \"MasVnrType\" , \"FireplaceQu\" , \"PoolQC\" , \"Fence\" , \"MiscFeature\"])"
   ]
  },
  {
   "cell_type": "code",
   "execution_count": 1398,
   "id": "cde81d89-6ab4-4eae-8532-3c27e7b3c9bd",
   "metadata": {},
   "outputs": [
    {
     "data": {
      "text/plain": [
       "<bound method DataFrame.info of       MSSubClass MSZoning  LotFrontage  LotArea Street LotShape LandContour  \\\n",
       "0           60.0       RL         65.0   8450.0   Pave      Reg         Lvl   \n",
       "1           20.0       RL         80.0   9600.0   Pave      Reg         Lvl   \n",
       "2           60.0       RL         68.0  11250.0   Pave      IR1         Lvl   \n",
       "3           70.0       RL         60.0   9550.0   Pave      IR1         Lvl   \n",
       "4           60.0       RL         84.0  14260.0   Pave      IR1         Lvl   \n",
       "...          ...      ...          ...      ...    ...      ...         ...   \n",
       "1455        60.0       RL         62.0   7917.0   Pave      Reg         Lvl   \n",
       "1456        20.0       RL         85.0  13175.0   Pave      Reg         Lvl   \n",
       "1457        70.0       RL         66.0   9042.0   Pave      Reg         Lvl   \n",
       "1458        20.0       RL         68.0   9717.0   Pave      Reg         Lvl   \n",
       "1459        20.0       RL         75.0   9937.0   Pave      Reg         Lvl   \n",
       "\n",
       "     Utilities LotConfig LandSlope  ... OpenPorchSF EnclosedPorch 3SsnPorch  \\\n",
       "0       AllPub    Inside       Gtl  ...        61.0           0.0       0.0   \n",
       "1       AllPub       FR2       Gtl  ...         0.0           0.0       0.0   \n",
       "2       AllPub    Inside       Gtl  ...        42.0           0.0       0.0   \n",
       "3       AllPub    Corner       Gtl  ...        35.0         272.0       0.0   \n",
       "4       AllPub       FR2       Gtl  ...        84.0           0.0       0.0   \n",
       "...        ...       ...       ...  ...         ...           ...       ...   \n",
       "1455    AllPub    Inside       Gtl  ...        40.0           0.0       0.0   \n",
       "1456    AllPub    Inside       Gtl  ...         0.0           0.0       0.0   \n",
       "1457    AllPub    Inside       Gtl  ...        60.0           0.0       0.0   \n",
       "1458    AllPub    Inside       Gtl  ...         0.0         112.0       0.0   \n",
       "1459    AllPub    Inside       Gtl  ...        68.0           0.0       0.0   \n",
       "\n",
       "     ScreenPorch PoolArea  MiscVal  MoSold  YrSold  SaleType SaleCondition  \n",
       "0            0.0      0.0      0.0     2.0  2008.0        WD        Normal  \n",
       "1            0.0      0.0      0.0     5.0  2007.0        WD        Normal  \n",
       "2            0.0      0.0      0.0     9.0  2008.0        WD        Normal  \n",
       "3            0.0      0.0      0.0     2.0  2006.0        WD       Abnorml  \n",
       "4            0.0      0.0      0.0    12.0  2008.0        WD        Normal  \n",
       "...          ...      ...      ...     ...     ...       ...           ...  \n",
       "1455         0.0      0.0      0.0     8.0  2007.0        WD        Normal  \n",
       "1456         0.0      0.0      0.0     2.0  2010.0        WD        Normal  \n",
       "1457         0.0      0.0   2500.0     5.0  2010.0        WD        Normal  \n",
       "1458         0.0      0.0      0.0     4.0  2010.0        WD        Normal  \n",
       "1459         0.0      0.0      0.0     6.0  2008.0        WD        Normal  \n",
       "\n",
       "[1460 rows x 73 columns]>"
      ]
     },
     "execution_count": 1398,
     "metadata": {},
     "output_type": "execute_result"
    }
   ],
   "source": [
    "dataset.info"
   ]
  },
  {
   "cell_type": "code",
   "execution_count": 1399,
   "id": "500d45ff-1550-41f0-85f2-f9612461f830",
   "metadata": {},
   "outputs": [],
   "source": [
    "catcols = dataset.select_dtypes(include=['object']).columns"
   ]
  },
  {
   "cell_type": "code",
   "execution_count": 1400,
   "id": "cfe303e1-492c-4e62-9a30-baf353bdd4d6",
   "metadata": {},
   "outputs": [
    {
     "name": "stdout",
     "output_type": "stream",
     "text": [
      "BsmtQual        37\n",
      "BsmtCond        37\n",
      "BsmtExposure    38\n",
      "BsmtFinType1    37\n",
      "BsmtFinType2    38\n",
      "Electrical       1\n",
      "GarageType      81\n",
      "GarageFinish    81\n",
      "GarageQual      81\n",
      "GarageCond      81\n",
      "dtype: int64\n"
     ]
    }
   ],
   "source": [
    "missing_categorical_values = dataset[catcols].isnull().sum()\n",
    "\n",
    "missing_categorical_columns = missing_categorical_values[missing_categorical_values > 0]\n",
    "print(missing_categorical_columns) "
   ]
  },
  {
   "cell_type": "code",
   "execution_count": 1401,
   "id": "38ffbda9-a2e0-4dea-82cf-3946596bd202",
   "metadata": {},
   "outputs": [],
   "source": [
    "from sklearn.impute import SimpleImputer\n",
    "Cimputer = SimpleImputer(strategy='most_frequent') "
   ]
  },
  {
   "cell_type": "code",
   "execution_count": 1402,
   "id": "5a171ce8-a985-46f5-9f97-6513102e3255",
   "metadata": {},
   "outputs": [],
   "source": [
    "dataset[catcols]  = Cimputer.fit_transform(dataset[catcols]) "
   ]
  },
  {
   "cell_type": "code",
   "execution_count": 1403,
   "id": "7b19ed2a-6bef-4e4d-b621-64d8f4137505",
   "metadata": {},
   "outputs": [],
   "source": [
    "colstring = ['MSZoning', 'Street', 'LotShape', 'LandContour', 'Utilities',\n",
    "       'LotConfig', 'LandSlope', 'Neighborhood', 'Condition1', 'Condition2',\n",
    "       'BldgType', 'HouseStyle', 'RoofStyle', 'RoofMatl', 'Exterior1st',\n",
    "       'Exterior2nd', 'ExterQual', 'ExterCond', 'Foundation', 'BsmtQual',\n",
    "       'BsmtCond', 'BsmtExposure', 'BsmtFinType1', 'BsmtFinType2', 'Heating',\n",
    "       'HeatingQC', 'CentralAir', 'Electrical', 'KitchenQual', 'Functional',\n",
    "       'GarageType', 'GarageFinish', 'GarageQual', 'GarageCond', 'PavedDrive',\n",
    "       'SaleType', 'SaleCondition']"
   ]
  },
  {
   "cell_type": "code",
   "execution_count": 1404,
   "id": "dbf7782d-b4cf-4df7-834c-f12af199bf8b",
   "metadata": {},
   "outputs": [],
   "source": [
    "from sklearn.preprocessing import OneHotEncoder\n",
    "from sklearn.compose import ColumnTransformer\n",
    "colT = ColumnTransformer(\n",
    "    transformers=[(\"encoder\", OneHotEncoder(sparse_output=False, handle_unknown='ignore'), colstring)], \n",
    "    remainder=\"passthrough\"\n",
    ") "
   ]
  },
  {
   "cell_type": "code",
   "execution_count": 1405,
   "id": "1054b274-75d0-44cd-b59b-b861981a08de",
   "metadata": {},
   "outputs": [
    {
     "name": "stdout",
     "output_type": "stream",
     "text": [
      "[[0.000e+00 0.000e+00 0.000e+00 ... 0.000e+00 2.000e+00 2.008e+03]\n",
      " [0.000e+00 0.000e+00 0.000e+00 ... 0.000e+00 5.000e+00 2.007e+03]\n",
      " [0.000e+00 0.000e+00 0.000e+00 ... 0.000e+00 9.000e+00 2.008e+03]\n",
      " ...\n",
      " [0.000e+00 0.000e+00 0.000e+00 ... 2.500e+03 5.000e+00 2.010e+03]\n",
      " [0.000e+00 0.000e+00 0.000e+00 ... 0.000e+00 4.000e+00 2.010e+03]\n",
      " [0.000e+00 0.000e+00 0.000e+00 ... 0.000e+00 6.000e+00 2.008e+03]]\n"
     ]
    }
   ],
   "source": [
    "df_encoded = colT.fit_transform(dataset) \n",
    "print(df_encoded)"
   ]
  },
  {
   "cell_type": "code",
   "execution_count": 1406,
   "id": "4c985ad5-4f30-4714-aaa6-651eee692a5b",
   "metadata": {
    "scrolled": true
   },
   "outputs": [
    {
     "name": "stdout",
     "output_type": "stream",
     "text": [
      "<class 'numpy.ndarray'>\n"
     ]
    }
   ],
   "source": [
    "print(type(df_encoded)) "
   ]
  },
  {
   "cell_type": "code",
   "execution_count": 1407,
   "id": "4ec5b477-d229-4511-9827-0e2b41ac76e3",
   "metadata": {},
   "outputs": [],
   "source": [
    "ohe_feature_names = colT.named_transformers_['encoder'].get_feature_names_out(colstring) \n",
    "feature_names = list(ohe_feature_names) + [col for col in dataset.columns if col not in colstring]\n",
    "df_encoded = pd.DataFrame(df_encoded, columns=feature_names)  "
   ]
  },
  {
   "cell_type": "code",
   "execution_count": 1408,
   "id": "12875517-fe76-43e5-a87c-ea9b9de24bae",
   "metadata": {},
   "outputs": [],
   "source": [
    "dataset = df_encoded"
   ]
  },
  {
   "cell_type": "code",
   "execution_count": 1409,
   "id": "4d7c2fad-6d10-4372-8f60-4b4cea703c01",
   "metadata": {},
   "outputs": [],
   "source": [
    "X = dataset"
   ]
  },
  {
   "cell_type": "code",
   "execution_count": 1410,
   "id": "26fecbea-7416-4713-8631-017c6713ec9f",
   "metadata": {},
   "outputs": [
    {
     "name": "stdout",
     "output_type": "stream",
     "text": [
      "      MSZoning_C (all)  MSZoning_FV  MSZoning_RH  MSZoning_RL  MSZoning_RM  \\\n",
      "0                  0.0          0.0          0.0          1.0          0.0   \n",
      "1                  0.0          0.0          0.0          1.0          0.0   \n",
      "2                  0.0          0.0          0.0          1.0          0.0   \n",
      "3                  0.0          0.0          0.0          1.0          0.0   \n",
      "4                  0.0          0.0          0.0          1.0          0.0   \n",
      "...                ...          ...          ...          ...          ...   \n",
      "1455               0.0          0.0          0.0          1.0          0.0   \n",
      "1456               0.0          0.0          0.0          1.0          0.0   \n",
      "1457               0.0          0.0          0.0          1.0          0.0   \n",
      "1458               0.0          0.0          0.0          1.0          0.0   \n",
      "1459               0.0          0.0          0.0          1.0          0.0   \n",
      "\n",
      "      Street_Grvl  Street_Pave  LotShape_IR1  LotShape_IR2  LotShape_IR3  ...  \\\n",
      "0             0.0          1.0           0.0           0.0           0.0  ...   \n",
      "1             0.0          1.0           0.0           0.0           0.0  ...   \n",
      "2             0.0          1.0           1.0           0.0           0.0  ...   \n",
      "3             0.0          1.0           1.0           0.0           0.0  ...   \n",
      "4             0.0          1.0           1.0           0.0           0.0  ...   \n",
      "...           ...          ...           ...           ...           ...  ...   \n",
      "1455          0.0          1.0           0.0           0.0           0.0  ...   \n",
      "1456          0.0          1.0           0.0           0.0           0.0  ...   \n",
      "1457          0.0          1.0           0.0           0.0           0.0  ...   \n",
      "1458          0.0          1.0           0.0           0.0           0.0  ...   \n",
      "1459          0.0          1.0           0.0           0.0           0.0  ...   \n",
      "\n",
      "      GarageArea  WoodDeckSF  OpenPorchSF  EnclosedPorch  3SsnPorch  \\\n",
      "0          548.0         0.0         61.0            0.0        0.0   \n",
      "1          460.0       298.0          0.0            0.0        0.0   \n",
      "2          608.0         0.0         42.0            0.0        0.0   \n",
      "3          642.0         0.0         35.0          272.0        0.0   \n",
      "4          836.0       192.0         84.0            0.0        0.0   \n",
      "...          ...         ...          ...            ...        ...   \n",
      "1455       460.0         0.0         40.0            0.0        0.0   \n",
      "1456       500.0       349.0          0.0            0.0        0.0   \n",
      "1457       252.0         0.0         60.0            0.0        0.0   \n",
      "1458       240.0       366.0          0.0          112.0        0.0   \n",
      "1459       276.0       736.0         68.0            0.0        0.0   \n",
      "\n",
      "      ScreenPorch  PoolArea  MiscVal  MoSold  YrSold  \n",
      "0             0.0       0.0      0.0     2.0  2008.0  \n",
      "1             0.0       0.0      0.0     5.0  2007.0  \n",
      "2             0.0       0.0      0.0     9.0  2008.0  \n",
      "3             0.0       0.0      0.0     2.0  2006.0  \n",
      "4             0.0       0.0      0.0    12.0  2008.0  \n",
      "...           ...       ...      ...     ...     ...  \n",
      "1455          0.0       0.0      0.0     8.0  2007.0  \n",
      "1456          0.0       0.0      0.0     2.0  2010.0  \n",
      "1457          0.0       0.0   2500.0     5.0  2010.0  \n",
      "1458          0.0       0.0      0.0     4.0  2010.0  \n",
      "1459          0.0       0.0      0.0     6.0  2008.0  \n",
      "\n",
      "[1460 rows x 266 columns]\n"
     ]
    }
   ],
   "source": [
    "print(X)"
   ]
  },
  {
   "cell_type": "code",
   "execution_count": 1411,
   "id": "2d1eeb1a-3845-4435-8d58-b547260a43b5",
   "metadata": {},
   "outputs": [],
   "source": [
    "y = sale_price\n"
   ]
  },
  {
   "cell_type": "raw",
   "id": "10e0c27a-c233-4539-a4b9-e17ffb80571e",
   "metadata": {},
   "source": [
    "y = series"
   ]
  },
  {
   "cell_type": "code",
   "execution_count": 1412,
   "id": "fa393208-2b4c-47c4-9c8b-61bd98dc2aab",
   "metadata": {},
   "outputs": [],
   "source": [
    "from sklearn.preprocessing import StandardScaler\n",
    "\n",
    "standard_scaler = StandardScaler()\n",
    "\n",
    "X_ss = pd.DataFrame(standard_scaler.fit_transform(X), columns=X.columns)"
   ]
  },
  {
   "cell_type": "code",
   "execution_count": 1413,
   "id": "9e26504d-0fab-4058-89e1-b24c0eec3226",
   "metadata": {},
   "outputs": [
    {
     "data": {
      "text/html": [
       "<style>#sk-container-id-3 {\n",
       "  /* Definition of color scheme common for light and dark mode */\n",
       "  --sklearn-color-text: black;\n",
       "  --sklearn-color-line: gray;\n",
       "  /* Definition of color scheme for unfitted estimators */\n",
       "  --sklearn-color-unfitted-level-0: #fff5e6;\n",
       "  --sklearn-color-unfitted-level-1: #f6e4d2;\n",
       "  --sklearn-color-unfitted-level-2: #ffe0b3;\n",
       "  --sklearn-color-unfitted-level-3: chocolate;\n",
       "  /* Definition of color scheme for fitted estimators */\n",
       "  --sklearn-color-fitted-level-0: #f0f8ff;\n",
       "  --sklearn-color-fitted-level-1: #d4ebff;\n",
       "  --sklearn-color-fitted-level-2: #b3dbfd;\n",
       "  --sklearn-color-fitted-level-3: cornflowerblue;\n",
       "\n",
       "  /* Specific color for light theme */\n",
       "  --sklearn-color-text-on-default-background: var(--sg-text-color, var(--theme-code-foreground, var(--jp-content-font-color1, black)));\n",
       "  --sklearn-color-background: var(--sg-background-color, var(--theme-background, var(--jp-layout-color0, white)));\n",
       "  --sklearn-color-border-box: var(--sg-text-color, var(--theme-code-foreground, var(--jp-content-font-color1, black)));\n",
       "  --sklearn-color-icon: #696969;\n",
       "\n",
       "  @media (prefers-color-scheme: dark) {\n",
       "    /* Redefinition of color scheme for dark theme */\n",
       "    --sklearn-color-text-on-default-background: var(--sg-text-color, var(--theme-code-foreground, var(--jp-content-font-color1, white)));\n",
       "    --sklearn-color-background: var(--sg-background-color, var(--theme-background, var(--jp-layout-color0, #111)));\n",
       "    --sklearn-color-border-box: var(--sg-text-color, var(--theme-code-foreground, var(--jp-content-font-color1, white)));\n",
       "    --sklearn-color-icon: #878787;\n",
       "  }\n",
       "}\n",
       "\n",
       "#sk-container-id-3 {\n",
       "  color: var(--sklearn-color-text);\n",
       "}\n",
       "\n",
       "#sk-container-id-3 pre {\n",
       "  padding: 0;\n",
       "}\n",
       "\n",
       "#sk-container-id-3 input.sk-hidden--visually {\n",
       "  border: 0;\n",
       "  clip: rect(1px 1px 1px 1px);\n",
       "  clip: rect(1px, 1px, 1px, 1px);\n",
       "  height: 1px;\n",
       "  margin: -1px;\n",
       "  overflow: hidden;\n",
       "  padding: 0;\n",
       "  position: absolute;\n",
       "  width: 1px;\n",
       "}\n",
       "\n",
       "#sk-container-id-3 div.sk-dashed-wrapped {\n",
       "  border: 1px dashed var(--sklearn-color-line);\n",
       "  margin: 0 0.4em 0.5em 0.4em;\n",
       "  box-sizing: border-box;\n",
       "  padding-bottom: 0.4em;\n",
       "  background-color: var(--sklearn-color-background);\n",
       "}\n",
       "\n",
       "#sk-container-id-3 div.sk-container {\n",
       "  /* jupyter's `normalize.less` sets `[hidden] { display: none; }`\n",
       "     but bootstrap.min.css set `[hidden] { display: none !important; }`\n",
       "     so we also need the `!important` here to be able to override the\n",
       "     default hidden behavior on the sphinx rendered scikit-learn.org.\n",
       "     See: https://github.com/scikit-learn/scikit-learn/issues/21755 */\n",
       "  display: inline-block !important;\n",
       "  position: relative;\n",
       "}\n",
       "\n",
       "#sk-container-id-3 div.sk-text-repr-fallback {\n",
       "  display: none;\n",
       "}\n",
       "\n",
       "div.sk-parallel-item,\n",
       "div.sk-serial,\n",
       "div.sk-item {\n",
       "  /* draw centered vertical line to link estimators */\n",
       "  background-image: linear-gradient(var(--sklearn-color-text-on-default-background), var(--sklearn-color-text-on-default-background));\n",
       "  background-size: 2px 100%;\n",
       "  background-repeat: no-repeat;\n",
       "  background-position: center center;\n",
       "}\n",
       "\n",
       "/* Parallel-specific style estimator block */\n",
       "\n",
       "#sk-container-id-3 div.sk-parallel-item::after {\n",
       "  content: \"\";\n",
       "  width: 100%;\n",
       "  border-bottom: 2px solid var(--sklearn-color-text-on-default-background);\n",
       "  flex-grow: 1;\n",
       "}\n",
       "\n",
       "#sk-container-id-3 div.sk-parallel {\n",
       "  display: flex;\n",
       "  align-items: stretch;\n",
       "  justify-content: center;\n",
       "  background-color: var(--sklearn-color-background);\n",
       "  position: relative;\n",
       "}\n",
       "\n",
       "#sk-container-id-3 div.sk-parallel-item {\n",
       "  display: flex;\n",
       "  flex-direction: column;\n",
       "}\n",
       "\n",
       "#sk-container-id-3 div.sk-parallel-item:first-child::after {\n",
       "  align-self: flex-end;\n",
       "  width: 50%;\n",
       "}\n",
       "\n",
       "#sk-container-id-3 div.sk-parallel-item:last-child::after {\n",
       "  align-self: flex-start;\n",
       "  width: 50%;\n",
       "}\n",
       "\n",
       "#sk-container-id-3 div.sk-parallel-item:only-child::after {\n",
       "  width: 0;\n",
       "}\n",
       "\n",
       "/* Serial-specific style estimator block */\n",
       "\n",
       "#sk-container-id-3 div.sk-serial {\n",
       "  display: flex;\n",
       "  flex-direction: column;\n",
       "  align-items: center;\n",
       "  background-color: var(--sklearn-color-background);\n",
       "  padding-right: 1em;\n",
       "  padding-left: 1em;\n",
       "}\n",
       "\n",
       "\n",
       "/* Toggleable style: style used for estimator/Pipeline/ColumnTransformer box that is\n",
       "clickable and can be expanded/collapsed.\n",
       "- Pipeline and ColumnTransformer use this feature and define the default style\n",
       "- Estimators will overwrite some part of the style using the `sk-estimator` class\n",
       "*/\n",
       "\n",
       "/* Pipeline and ColumnTransformer style (default) */\n",
       "\n",
       "#sk-container-id-3 div.sk-toggleable {\n",
       "  /* Default theme specific background. It is overwritten whether we have a\n",
       "  specific estimator or a Pipeline/ColumnTransformer */\n",
       "  background-color: var(--sklearn-color-background);\n",
       "}\n",
       "\n",
       "/* Toggleable label */\n",
       "#sk-container-id-3 label.sk-toggleable__label {\n",
       "  cursor: pointer;\n",
       "  display: block;\n",
       "  width: 100%;\n",
       "  margin-bottom: 0;\n",
       "  padding: 0.5em;\n",
       "  box-sizing: border-box;\n",
       "  text-align: center;\n",
       "}\n",
       "\n",
       "#sk-container-id-3 label.sk-toggleable__label-arrow:before {\n",
       "  /* Arrow on the left of the label */\n",
       "  content: \"▸\";\n",
       "  float: left;\n",
       "  margin-right: 0.25em;\n",
       "  color: var(--sklearn-color-icon);\n",
       "}\n",
       "\n",
       "#sk-container-id-3 label.sk-toggleable__label-arrow:hover:before {\n",
       "  color: var(--sklearn-color-text);\n",
       "}\n",
       "\n",
       "/* Toggleable content - dropdown */\n",
       "\n",
       "#sk-container-id-3 div.sk-toggleable__content {\n",
       "  max-height: 0;\n",
       "  max-width: 0;\n",
       "  overflow: hidden;\n",
       "  text-align: left;\n",
       "  /* unfitted */\n",
       "  background-color: var(--sklearn-color-unfitted-level-0);\n",
       "}\n",
       "\n",
       "#sk-container-id-3 div.sk-toggleable__content.fitted {\n",
       "  /* fitted */\n",
       "  background-color: var(--sklearn-color-fitted-level-0);\n",
       "}\n",
       "\n",
       "#sk-container-id-3 div.sk-toggleable__content pre {\n",
       "  margin: 0.2em;\n",
       "  border-radius: 0.25em;\n",
       "  color: var(--sklearn-color-text);\n",
       "  /* unfitted */\n",
       "  background-color: var(--sklearn-color-unfitted-level-0);\n",
       "}\n",
       "\n",
       "#sk-container-id-3 div.sk-toggleable__content.fitted pre {\n",
       "  /* unfitted */\n",
       "  background-color: var(--sklearn-color-fitted-level-0);\n",
       "}\n",
       "\n",
       "#sk-container-id-3 input.sk-toggleable__control:checked~div.sk-toggleable__content {\n",
       "  /* Expand drop-down */\n",
       "  max-height: 200px;\n",
       "  max-width: 100%;\n",
       "  overflow: auto;\n",
       "}\n",
       "\n",
       "#sk-container-id-3 input.sk-toggleable__control:checked~label.sk-toggleable__label-arrow:before {\n",
       "  content: \"▾\";\n",
       "}\n",
       "\n",
       "/* Pipeline/ColumnTransformer-specific style */\n",
       "\n",
       "#sk-container-id-3 div.sk-label input.sk-toggleable__control:checked~label.sk-toggleable__label {\n",
       "  color: var(--sklearn-color-text);\n",
       "  background-color: var(--sklearn-color-unfitted-level-2);\n",
       "}\n",
       "\n",
       "#sk-container-id-3 div.sk-label.fitted input.sk-toggleable__control:checked~label.sk-toggleable__label {\n",
       "  background-color: var(--sklearn-color-fitted-level-2);\n",
       "}\n",
       "\n",
       "/* Estimator-specific style */\n",
       "\n",
       "/* Colorize estimator box */\n",
       "#sk-container-id-3 div.sk-estimator input.sk-toggleable__control:checked~label.sk-toggleable__label {\n",
       "  /* unfitted */\n",
       "  background-color: var(--sklearn-color-unfitted-level-2);\n",
       "}\n",
       "\n",
       "#sk-container-id-3 div.sk-estimator.fitted input.sk-toggleable__control:checked~label.sk-toggleable__label {\n",
       "  /* fitted */\n",
       "  background-color: var(--sklearn-color-fitted-level-2);\n",
       "}\n",
       "\n",
       "#sk-container-id-3 div.sk-label label.sk-toggleable__label,\n",
       "#sk-container-id-3 div.sk-label label {\n",
       "  /* The background is the default theme color */\n",
       "  color: var(--sklearn-color-text-on-default-background);\n",
       "}\n",
       "\n",
       "/* On hover, darken the color of the background */\n",
       "#sk-container-id-3 div.sk-label:hover label.sk-toggleable__label {\n",
       "  color: var(--sklearn-color-text);\n",
       "  background-color: var(--sklearn-color-unfitted-level-2);\n",
       "}\n",
       "\n",
       "/* Label box, darken color on hover, fitted */\n",
       "#sk-container-id-3 div.sk-label.fitted:hover label.sk-toggleable__label.fitted {\n",
       "  color: var(--sklearn-color-text);\n",
       "  background-color: var(--sklearn-color-fitted-level-2);\n",
       "}\n",
       "\n",
       "/* Estimator label */\n",
       "\n",
       "#sk-container-id-3 div.sk-label label {\n",
       "  font-family: monospace;\n",
       "  font-weight: bold;\n",
       "  display: inline-block;\n",
       "  line-height: 1.2em;\n",
       "}\n",
       "\n",
       "#sk-container-id-3 div.sk-label-container {\n",
       "  text-align: center;\n",
       "}\n",
       "\n",
       "/* Estimator-specific */\n",
       "#sk-container-id-3 div.sk-estimator {\n",
       "  font-family: monospace;\n",
       "  border: 1px dotted var(--sklearn-color-border-box);\n",
       "  border-radius: 0.25em;\n",
       "  box-sizing: border-box;\n",
       "  margin-bottom: 0.5em;\n",
       "  /* unfitted */\n",
       "  background-color: var(--sklearn-color-unfitted-level-0);\n",
       "}\n",
       "\n",
       "#sk-container-id-3 div.sk-estimator.fitted {\n",
       "  /* fitted */\n",
       "  background-color: var(--sklearn-color-fitted-level-0);\n",
       "}\n",
       "\n",
       "/* on hover */\n",
       "#sk-container-id-3 div.sk-estimator:hover {\n",
       "  /* unfitted */\n",
       "  background-color: var(--sklearn-color-unfitted-level-2);\n",
       "}\n",
       "\n",
       "#sk-container-id-3 div.sk-estimator.fitted:hover {\n",
       "  /* fitted */\n",
       "  background-color: var(--sklearn-color-fitted-level-2);\n",
       "}\n",
       "\n",
       "/* Specification for estimator info (e.g. \"i\" and \"?\") */\n",
       "\n",
       "/* Common style for \"i\" and \"?\" */\n",
       "\n",
       ".sk-estimator-doc-link,\n",
       "a:link.sk-estimator-doc-link,\n",
       "a:visited.sk-estimator-doc-link {\n",
       "  float: right;\n",
       "  font-size: smaller;\n",
       "  line-height: 1em;\n",
       "  font-family: monospace;\n",
       "  background-color: var(--sklearn-color-background);\n",
       "  border-radius: 1em;\n",
       "  height: 1em;\n",
       "  width: 1em;\n",
       "  text-decoration: none !important;\n",
       "  margin-left: 1ex;\n",
       "  /* unfitted */\n",
       "  border: var(--sklearn-color-unfitted-level-1) 1pt solid;\n",
       "  color: var(--sklearn-color-unfitted-level-1);\n",
       "}\n",
       "\n",
       ".sk-estimator-doc-link.fitted,\n",
       "a:link.sk-estimator-doc-link.fitted,\n",
       "a:visited.sk-estimator-doc-link.fitted {\n",
       "  /* fitted */\n",
       "  border: var(--sklearn-color-fitted-level-1) 1pt solid;\n",
       "  color: var(--sklearn-color-fitted-level-1);\n",
       "}\n",
       "\n",
       "/* On hover */\n",
       "div.sk-estimator:hover .sk-estimator-doc-link:hover,\n",
       ".sk-estimator-doc-link:hover,\n",
       "div.sk-label-container:hover .sk-estimator-doc-link:hover,\n",
       ".sk-estimator-doc-link:hover {\n",
       "  /* unfitted */\n",
       "  background-color: var(--sklearn-color-unfitted-level-3);\n",
       "  color: var(--sklearn-color-background);\n",
       "  text-decoration: none;\n",
       "}\n",
       "\n",
       "div.sk-estimator.fitted:hover .sk-estimator-doc-link.fitted:hover,\n",
       ".sk-estimator-doc-link.fitted:hover,\n",
       "div.sk-label-container:hover .sk-estimator-doc-link.fitted:hover,\n",
       ".sk-estimator-doc-link.fitted:hover {\n",
       "  /* fitted */\n",
       "  background-color: var(--sklearn-color-fitted-level-3);\n",
       "  color: var(--sklearn-color-background);\n",
       "  text-decoration: none;\n",
       "}\n",
       "\n",
       "/* Span, style for the box shown on hovering the info icon */\n",
       ".sk-estimator-doc-link span {\n",
       "  display: none;\n",
       "  z-index: 9999;\n",
       "  position: relative;\n",
       "  font-weight: normal;\n",
       "  right: .2ex;\n",
       "  padding: .5ex;\n",
       "  margin: .5ex;\n",
       "  width: min-content;\n",
       "  min-width: 20ex;\n",
       "  max-width: 50ex;\n",
       "  color: var(--sklearn-color-text);\n",
       "  box-shadow: 2pt 2pt 4pt #999;\n",
       "  /* unfitted */\n",
       "  background: var(--sklearn-color-unfitted-level-0);\n",
       "  border: .5pt solid var(--sklearn-color-unfitted-level-3);\n",
       "}\n",
       "\n",
       ".sk-estimator-doc-link.fitted span {\n",
       "  /* fitted */\n",
       "  background: var(--sklearn-color-fitted-level-0);\n",
       "  border: var(--sklearn-color-fitted-level-3);\n",
       "}\n",
       "\n",
       ".sk-estimator-doc-link:hover span {\n",
       "  display: block;\n",
       "}\n",
       "\n",
       "/* \"?\"-specific style due to the `<a>` HTML tag */\n",
       "\n",
       "#sk-container-id-3 a.estimator_doc_link {\n",
       "  float: right;\n",
       "  font-size: 1rem;\n",
       "  line-height: 1em;\n",
       "  font-family: monospace;\n",
       "  background-color: var(--sklearn-color-background);\n",
       "  border-radius: 1rem;\n",
       "  height: 1rem;\n",
       "  width: 1rem;\n",
       "  text-decoration: none;\n",
       "  /* unfitted */\n",
       "  color: var(--sklearn-color-unfitted-level-1);\n",
       "  border: var(--sklearn-color-unfitted-level-1) 1pt solid;\n",
       "}\n",
       "\n",
       "#sk-container-id-3 a.estimator_doc_link.fitted {\n",
       "  /* fitted */\n",
       "  border: var(--sklearn-color-fitted-level-1) 1pt solid;\n",
       "  color: var(--sklearn-color-fitted-level-1);\n",
       "}\n",
       "\n",
       "/* On hover */\n",
       "#sk-container-id-3 a.estimator_doc_link:hover {\n",
       "  /* unfitted */\n",
       "  background-color: var(--sklearn-color-unfitted-level-3);\n",
       "  color: var(--sklearn-color-background);\n",
       "  text-decoration: none;\n",
       "}\n",
       "\n",
       "#sk-container-id-3 a.estimator_doc_link.fitted:hover {\n",
       "  /* fitted */\n",
       "  background-color: var(--sklearn-color-fitted-level-3);\n",
       "}\n",
       "</style><div id=\"sk-container-id-3\" class=\"sk-top-container\"><div class=\"sk-text-repr-fallback\"><pre>RandomForestRegressor(random_state=0)</pre><b>In a Jupyter environment, please rerun this cell to show the HTML representation or trust the notebook. <br />On GitHub, the HTML representation is unable to render, please try loading this page with nbviewer.org.</b></div><div class=\"sk-container\" hidden><div class=\"sk-item\"><div class=\"sk-estimator fitted sk-toggleable\"><input class=\"sk-toggleable__control sk-hidden--visually\" id=\"sk-estimator-id-3\" type=\"checkbox\" checked><label for=\"sk-estimator-id-3\" class=\"sk-toggleable__label fitted sk-toggleable__label-arrow fitted\">&nbsp;&nbsp;RandomForestRegressor<a class=\"sk-estimator-doc-link fitted\" rel=\"noreferrer\" target=\"_blank\" href=\"https://scikit-learn.org/1.4/modules/generated/sklearn.ensemble.RandomForestRegressor.html\">?<span>Documentation for RandomForestRegressor</span></a><span class=\"sk-estimator-doc-link fitted\">i<span>Fitted</span></span></label><div class=\"sk-toggleable__content fitted\"><pre>RandomForestRegressor(random_state=0)</pre></div> </div></div></div></div>"
      ],
      "text/plain": [
       "RandomForestRegressor(random_state=0)"
      ]
     },
     "execution_count": 1413,
     "metadata": {},
     "output_type": "execute_result"
    }
   ],
   "source": [
    "from sklearn.ensemble import RandomForestRegressor \n",
    "regressor = RandomForestRegressor(n_estimators = 100, random_state = 0) \n",
    "regressor.fit(X_ss, y)"
   ]
  },
  {
   "cell_type": "code",
   "execution_count": 1414,
   "id": "bfd6fdc6-b4fa-4e15-a598-f58e7deafdd3",
   "metadata": {},
   "outputs": [],
   "source": [
    "dataframe = pd.read_csv(\"test.csv\") \n",
    "id = dataframe[\"Id\"]\n",
    "Xtest = dataframe.iloc[:,1:] "
   ]
  },
  {
   "cell_type": "code",
   "execution_count": 1415,
   "id": "418788b8-333a-444a-9031-3cd459a1e06c",
   "metadata": {},
   "outputs": [],
   "source": [
    "numcols = Xtest.select_dtypes(include = [\"int64\" , \"float64\"]).columns"
   ]
  },
  {
   "cell_type": "code",
   "execution_count": 1416,
   "id": "f6be5adf-17ac-4dfe-afa6-93a81282873d",
   "metadata": {},
   "outputs": [],
   "source": [
    "Xtest[numcols] = Numimputer.transform(Xtest[numcols]) "
   ]
  },
  {
   "cell_type": "code",
   "execution_count": 1417,
   "id": "549cd6bf-2ef5-4603-b09c-2e86cf6d1b9d",
   "metadata": {},
   "outputs": [],
   "source": [
    "Xtest = Xtest.drop(columns = [\"Alley\" , \"MasVnrType\" , \"FireplaceQu\" , \"PoolQC\" , \"Fence\" , \"MiscFeature\"])"
   ]
  },
  {
   "cell_type": "code",
   "execution_count": 1418,
   "id": "65b11658-5972-43cb-8348-e80257dea281",
   "metadata": {},
   "outputs": [],
   "source": [
    "catcols = Xtest.select_dtypes(include=['object']).columns"
   ]
  },
  {
   "cell_type": "code",
   "execution_count": 1419,
   "id": "52154cf8-01fb-4ef6-a038-e19d06851438",
   "metadata": {},
   "outputs": [],
   "source": [
    "Xtest[catcols]  = Cimputer.transform(Xtest[catcols]) "
   ]
  },
  {
   "cell_type": "code",
   "execution_count": 1420,
   "id": "6ff47c7d-e5f7-4a9a-835d-e15b36e6bdf1",
   "metadata": {},
   "outputs": [],
   "source": [
    "df_encoded = colT.transform(Xtest)"
   ]
  },
  {
   "cell_type": "code",
   "execution_count": 1421,
   "id": "ed1a1177-5398-4987-9c56-9ee0e76f923d",
   "metadata": {},
   "outputs": [],
   "source": [
    "ohe_feature_names = colT.named_transformers_['encoder'].get_feature_names_out(colstring) \n",
    "feature_names = list(ohe_feature_names) + [col for col in Xtest.columns if col not in colstring]\n",
    "df_encoded = pd.DataFrame(df_encoded, columns=feature_names)  "
   ]
  },
  {
   "cell_type": "code",
   "execution_count": 1422,
   "id": "16e5b210-1192-4d87-bcdd-bae492f86464",
   "metadata": {},
   "outputs": [],
   "source": [
    "Xtest = df_encoded "
   ]
  },
  {
   "cell_type": "code",
   "execution_count": 1423,
   "id": "e27c4cd4-9e65-49bf-9343-ce2b31456649",
   "metadata": {
    "scrolled": true
   },
   "outputs": [],
   "source": [
    "X_ss = pd.DataFrame(standard_scaler.transform(Xtest), columns=X.columns) "
   ]
  },
  {
   "cell_type": "code",
   "execution_count": 1424,
   "id": "3b78900c-fea5-439d-9b9e-fc9c02d3c883",
   "metadata": {},
   "outputs": [],
   "source": [
    "y_pred = regressor.predict(X_ss)"
   ]
  },
  {
   "cell_type": "code",
   "execution_count": 1425,
   "id": "c86b0953-f104-48b9-9c4f-9f3faefad7d6",
   "metadata": {},
   "outputs": [
    {
     "name": "stdout",
     "output_type": "stream",
     "text": [
      "[127864.5  155169.9  177370.44 ... 148498.21 113486.5  223649.4 ]\n"
     ]
    }
   ],
   "source": [
    "print(y_pred)"
   ]
  },
  {
   "cell_type": "code",
   "execution_count": 1426,
   "id": "5d9ce544-ae52-450d-8db9-1a0d2caef1a2",
   "metadata": {},
   "outputs": [
    {
     "name": "stdout",
     "output_type": "stream",
     "text": [
      "0       1461\n",
      "1       1462\n",
      "2       1463\n",
      "3       1464\n",
      "4       1465\n",
      "        ... \n",
      "1454    2915\n",
      "1455    2916\n",
      "1456    2917\n",
      "1457    2918\n",
      "1458    2919\n",
      "Name: Id, Length: 1459, dtype: int64\n"
     ]
    }
   ],
   "source": [
    "print(id)"
   ]
  },
  {
   "cell_type": "code",
   "execution_count": 1427,
   "id": "4a615b21-0e93-465d-8423-651b26c71586",
   "metadata": {},
   "outputs": [
    {
     "name": "stdout",
     "output_type": "stream",
     "text": [
      "<class 'pandas.core.series.Series'>\n"
     ]
    }
   ],
   "source": [
    "print(type(id))"
   ]
  },
  {
   "cell_type": "code",
   "execution_count": 1428,
   "id": "7e816530-8c2f-4f44-b305-b6d197bb26ec",
   "metadata": {},
   "outputs": [],
   "source": [
    "idn = id.values"
   ]
  },
  {
   "cell_type": "code",
   "execution_count": 1429,
   "id": "4bcf908a-3ee3-41a4-ac9b-15ac93a4917d",
   "metadata": {},
   "outputs": [
    {
     "name": "stdout",
     "output_type": "stream",
     "text": [
      "[1461 1462 1463 ... 2917 2918 2919]\n"
     ]
    }
   ],
   "source": [
    "print(idn)"
   ]
  },
  {
   "cell_type": "code",
   "execution_count": 1430,
   "id": "2ff3de02-8537-446e-a1d5-23e978280d9e",
   "metadata": {},
   "outputs": [
    {
     "name": "stdout",
     "output_type": "stream",
     "text": [
      "File saved as: predictions.csv\n"
     ]
    }
   ],
   "source": [
    "import numpy as np\n",
    "import pandas as pd\n",
    "\n",
    "# Replace these with your actual NumPy arrays\n",
    "ids = idn  # e.g., np.array([1461, 1462, 1463, 1464, 1465, 2919])  # e.g., np.array([127864.5, 155169.9, 177370.44, 148498.21, 113486.5, 223649.4])\n",
    "\n",
    "# Create a DataFrame from the NumPy arrays\n",
    "output = pd.DataFrame({\n",
    "    'Id': ids,\n",
    "    'SalePrice': y_pred\n",
    "})\n",
    "\n",
    "# Save the DataFrame to a CSV file\n",
    "output_file_path = 'predictions.csv'\n",
    "output.to_csv(output_file_path, index=False)\n",
    "\n",
    "# Confirm file creation\n",
    "print(f\"File saved as: {output_file_path}\")\n"
   ]
  },
  {
   "cell_type": "code",
   "execution_count": null,
   "id": "308c9807-c672-4858-a960-c79a34c16c74",
   "metadata": {},
   "outputs": [],
   "source": []
  }
 ],
 "metadata": {
  "kernelspec": {
   "display_name": "Python 3 (ipykernel)",
   "language": "python",
   "name": "python3"
  },
  "language_info": {
   "codemirror_mode": {
    "name": "ipython",
    "version": 3
   },
   "file_extension": ".py",
   "mimetype": "text/x-python",
   "name": "python",
   "nbconvert_exporter": "python",
   "pygments_lexer": "ipython3",
   "version": "3.12.4"
  }
 },
 "nbformat": 4,
 "nbformat_minor": 5
}
